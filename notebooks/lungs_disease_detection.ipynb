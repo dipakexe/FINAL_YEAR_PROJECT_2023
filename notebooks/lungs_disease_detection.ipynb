{
  "cells": [
    {
      "cell_type": "markdown",
      "metadata": {
        "id": "view-in-github",
        "colab_type": "text"
      },
      "source": [
        "<a href=\"https://colab.research.google.com/github/dipakexe/FINAL_YEAR_PROJECT_2023/blob/main/notebooks/lungs_disease_detection.ipynb\" target=\"_parent\"><img src=\"https://colab.research.google.com/assets/colab-badge.svg\" alt=\"Open In Colab\"/></a>"
      ]
    },
    {
      "cell_type": "markdown",
      "metadata": {
        "id": "dlMQ5X7V4GmL"
      },
      "source": [
        "# **Lungs Disease Detection 🫁**"
      ]
    },
    {
      "cell_type": "markdown",
      "metadata": {
        "id": "uAW7dsNN4GmN"
      },
      "source": [
        "**INDEX**\n",
        "\n",
        "- [DATA COLLECTION](#data-collection)\n",
        "- [DATA PRE-PROCESSING](#data-pre-processing)\n",
        "- [MODEL BUILDING](#model-building)\n",
        "- [MODEL EVALUATION](#model-evaluation)\n",
        "- [CONCLUSION](#conclusion)"
      ]
    },
    {
      "cell_type": "markdown",
      "source": [
        "### IMPORTING REQUIRED LIBRARIES"
      ],
      "metadata": {
        "id": "B8RUEyj4xA2a"
      }
    },
    {
      "cell_type": "code",
      "source": [
        "import warnings\n",
        "warnings.filterwarnings(\"ignore\")\n",
        "\n",
        "# FOR DATA MANIPULATION AND VISUALIZATION\n",
        "import numpy as np\n",
        "import matplotlib.pyplot as plt\n",
        "\n",
        "# FOR MODEL BUILDING\n",
        "import tensorflow as tf\n",
        "from tensorflow.keras.preprocessing.image import ImageDataGenerator\n",
        "from tensorflow.keras.applications import DenseNet121\n",
        "from tensorflow.keras.models import Sequential\n",
        "from tensorflow.keras.callbacks import ModelCheckpoint, EarlyStopping, ReduceLROnPlateau\n",
        "from tensorflow.keras.layers import Dense, GlobalAveragePooling2D, BatchNormalization, Dropout\n",
        "\n",
        "# FOR MODEL EVALUATION\n",
        "from sklearn.metrics import roc_curve, auc\n",
        "from sklearn.metrics import roc_auc_score"
      ],
      "metadata": {
        "id": "KB4uK4M8xEMD"
      },
      "execution_count": 57,
      "outputs": []
    },
    {
      "cell_type": "markdown",
      "metadata": {
        "id": "BYvW6EZD4GmO"
      },
      "source": [
        "<a name=\"data-collection\"></a>\n",
        "## **DATA COLLECTION**"
      ]
    },
    {
      "cell_type": "markdown",
      "source": [
        "## DATA SOURCE\n",
        "\n",
        "We're considering two datasets to use to achieve our goal. We can use either one of them or both as required. Anyone can find these datasets on Kaggle. These datasets have pictures with labels showing whether **they're x-rays of lungs with pneumonia or normal lungs.**\n",
        "\n",
        "1. [Lungs Disease Dataset (4 types) - Chest X-Rays of Viral Pneumonia, Bacterial Pneumonia, Covid and Tuberculosis](https://www.kaggle.com/datasets/omkarmanohardalvi/lungs-disease-dataset-4-types).\n",
        "2. [Chest X-ray Images - for pneumonia detection with deep learning](https://www.kaggle.com/datasets/tolgadincer/labeled-chest-xray-images)\n",
        "\n",
        "Currently, we are utilizing the second option, focusing solely on **two image classes: normal X-rays and those depicting pneumonia**. The first option can also serve our purpose by excluding any additional image classes."
      ],
      "metadata": {
        "id": "6sjPkYfK4KhR"
      }
    },
    {
      "cell_type": "markdown",
      "source": [
        "## DOWNLOADING THE DATA FROM KAGGLE"
      ],
      "metadata": {
        "id": "p5DMr2e16KDq"
      }
    },
    {
      "cell_type": "code",
      "source": [
        "import os\n",
        "from google.colab import drive\n",
        "\n",
        "drive.mount('/content/drive', force_remount=True)\n",
        "os.environ['KAGGLE_CONFIG_DIR'] = os.path.dirname('/content/drive/MyDrive/Colab Notebooks/kaggle.json')"
      ],
      "metadata": {
        "id": "25c1AMrE6aby",
        "outputId": "65c11421-052d-492a-909e-316f9bd5dc29",
        "colab": {
          "base_uri": "https://localhost:8080/"
        }
      },
      "execution_count": 2,
      "outputs": [
        {
          "output_type": "stream",
          "name": "stdout",
          "text": [
            "Mounted at /content/drive\n"
          ]
        }
      ]
    },
    {
      "cell_type": "code",
      "source": [
        "!kaggle datasets download -d tolgadincer/labeled-chest-xray-images"
      ],
      "metadata": {
        "id": "_ilkmyvP7NcK",
        "outputId": "ff03ea87-ab9e-4983-aa91-f2d04ee7715a",
        "colab": {
          "base_uri": "https://localhost:8080/"
        }
      },
      "execution_count": 3,
      "outputs": [
        {
          "output_type": "stream",
          "name": "stdout",
          "text": [
            "Downloading labeled-chest-xray-images.zip to /content\n",
            " 99% 1.17G/1.17G [00:13<00:00, 93.1MB/s]\n",
            "100% 1.17G/1.17G [00:13<00:00, 95.0MB/s]\n"
          ]
        }
      ]
    },
    {
      "cell_type": "code",
      "source": [
        "!mkdir -p data/extracted_data/\n",
        "!unzip -qn /content/labeled-chest-xray-images.zip -d data/extracted_data/"
      ],
      "metadata": {
        "id": "60xy0-ru7ZJM"
      },
      "execution_count": 4,
      "outputs": []
    },
    {
      "cell_type": "code",
      "source": [
        "def files_and_dirs_count(directory):\n",
        "    return sum(len(files) for _, _, files in os.walk(directory)), sum(len(dirs) for _, dirs, _ in os.walk(directory))\n",
        "\n",
        "def list_dirs(dirpath=\"data/extracted_data/\", level=0):\n",
        "    for dir in os.listdir(dirpath):\n",
        "        dir_full_path = os.path.join(dirpath, dir)\n",
        "        if os.path.isdir(dir_full_path):\n",
        "            file_count, dir_count = files_and_dirs_count(dir_full_path)\n",
        "            indentation = ' |--' * level\n",
        "\n",
        "            print(f\"{indentation}{dir} ({file_count} files and {dir_count} subdirectories)\")\n",
        "            if dir_count > 0:\n",
        "                list_dirs(dir_full_path, level=level+1)\n",
        "\n",
        "list_dirs()\n"
      ],
      "metadata": {
        "colab": {
          "base_uri": "https://localhost:8080/"
        },
        "id": "aKtZntbaNcN5",
        "outputId": "f979be1e-e255-4f4b-87bf-2b0c4dac50e0"
      },
      "execution_count": 11,
      "outputs": [
        {
          "output_type": "stream",
          "name": "stdout",
          "text": [
            "chest_xray (5856 files and 6 subdirectories)\n",
            " |--test (624 files and 2 subdirectories)\n",
            " |-- |--NORMAL (234 files and 0 subdirectories)\n",
            " |-- |--PNEUMONIA (390 files and 0 subdirectories)\n",
            " |--train (5232 files and 2 subdirectories)\n",
            " |-- |--NORMAL (1349 files and 0 subdirectories)\n",
            " |-- |--PNEUMONIA (3883 files and 0 subdirectories)\n"
          ]
        }
      ]
    },
    {
      "cell_type": "markdown",
      "metadata": {
        "id": "IwtvhlYV4GmP"
      },
      "source": [
        "<a name=\"data-pre-processing\"></a>\n",
        "## **DATA PRE-PROCESSING**"
      ]
    },
    {
      "cell_type": "markdown",
      "source": [
        "### LOADING THE DATASET"
      ],
      "metadata": {
        "id": "bJS0zf9sw158"
      }
    },
    {
      "cell_type": "code",
      "source": [
        "img_size = (224, 224)\n",
        "batch_size = 64"
      ],
      "metadata": {
        "id": "PUnLcKhx9ULY"
      },
      "execution_count": 38,
      "outputs": []
    },
    {
      "cell_type": "code",
      "source": [
        "extracted_dataset_path = \"data/extracted_data/chest_xray/\"\n",
        "\n",
        "train_dir = os.path.join(extracted_dataset_path, 'train')\n",
        "val_dir = os.path.join(extracted_dataset_path, 'val')\n",
        "test_dir = os.path.join(extracted_dataset_path, 'test')"
      ],
      "metadata": {
        "id": "cXH6C8qHw5vS"
      },
      "execution_count": 39,
      "outputs": []
    },
    {
      "cell_type": "code",
      "source": [
        "train_datagen = ImageDataGenerator(\n",
        "    rescale=1./255,\n",
        "    shear_range=0.2,\n",
        "    zoom_range=0.2,\n",
        "    rotation_range=30,\n",
        "    width_shift_range=0.2,\n",
        "    height_shift_range=0.2,\n",
        "    brightness_range=[0.5, 1.5],\n",
        "    channel_shift_range=50.0,\n",
        "    horizontal_flip=True,\n",
        "    validation_split=0.4\n",
        ")\n",
        "\n",
        "val_datagen = ImageDataGenerator(rescale=1./255, validation_split=0.4)\n",
        "test_datagen = ImageDataGenerator(rescale=1./255)"
      ],
      "metadata": {
        "id": "_RzDeTeHxtDX"
      },
      "execution_count": 40,
      "outputs": []
    },
    {
      "cell_type": "code",
      "source": [
        "train_generator = train_datagen.flow_from_directory(\n",
        "    train_dir,\n",
        "    target_size=img_size,\n",
        "    batch_size=batch_size,\n",
        "    class_mode='binary',\n",
        "    subset='training'\n",
        ")\n",
        "\n",
        "val_generator = val_datagen.flow_from_directory(\n",
        "    train_dir,\n",
        "    target_size=img_size,\n",
        "    batch_size=batch_size,\n",
        "    class_mode='binary',\n",
        "    subset='validation'\n",
        ")\n",
        "\n",
        "test_generator = test_datagen.flow_from_directory(\n",
        "    test_dir,\n",
        "    target_size=img_size,\n",
        "    batch_size=batch_size,\n",
        "    class_mode='binary'\n",
        ")"
      ],
      "metadata": {
        "colab": {
          "base_uri": "https://localhost:8080/"
        },
        "id": "9DnKnVmPx0x9",
        "outputId": "957761bf-bd66-4660-aa7b-c13c6b04d042"
      },
      "execution_count": 41,
      "outputs": [
        {
          "output_type": "stream",
          "name": "stdout",
          "text": [
            "Found 3140 images belonging to 2 classes.\n",
            "Found 2092 images belonging to 2 classes.\n",
            "Found 624 images belonging to 2 classes.\n"
          ]
        }
      ]
    },
    {
      "cell_type": "markdown",
      "metadata": {
        "id": "5uIqKH304GmQ"
      },
      "source": [
        "<a name='model-building'></a>\n",
        "## **MODEL BUILDING**"
      ]
    },
    {
      "cell_type": "code",
      "source": [
        "base_model = DenseNet121(weights='imagenet', include_top=False, input_shape=(224, 224, 3))"
      ],
      "metadata": {
        "id": "0JEJChknx8iZ"
      },
      "execution_count": 42,
      "outputs": []
    },
    {
      "cell_type": "code",
      "source": [
        "model = Sequential()\n",
        "model.add(base_model)\n",
        "model.add(GlobalAveragePooling2D())\n",
        "model.add(Dense(512, activation='relu'))\n",
        "model.add(Dense(1, activation='sigmoid'))"
      ],
      "metadata": {
        "id": "bBLLE6P5yERn"
      },
      "execution_count": 58,
      "outputs": []
    },
    {
      "cell_type": "code",
      "source": [
        "model.compile(\n",
        "    optimizer=tf.keras.optimizers.Adam(learning_rate=1e-4),\n",
        "    loss='binary_crossentropy',\n",
        "    metrics=['accuracy']\n",
        ")"
      ],
      "metadata": {
        "id": "aXtIlAAYyIkF"
      },
      "execution_count": 59,
      "outputs": []
    },
    {
      "cell_type": "code",
      "source": [
        "checkpoint = ModelCheckpoint('lung_disease_model.h5', monitor='val_accuracy', save_best_only=True, mode='max', verbose=1)\n",
        "early_stopping = EarlyStopping(monitor='val_loss', patience=8, restore_best_weights=True, verbose=1)\n",
        "reduce_lr = ReduceLROnPlateau(monitor='val_loss', factor=0.1, patience=3, verbose=1, min_lr=1e-6)"
      ],
      "metadata": {
        "id": "Ha2gGNZkyPmm"
      },
      "execution_count": 60,
      "outputs": []
    },
    {
      "cell_type": "code",
      "source": [
        "history = model.fit(\n",
        "    train_generator,\n",
        "    steps_per_epoch=train_generator.samples // batch_size,\n",
        "    epochs=5, # 5 iterations are enough for transfer learning\n",
        "    validation_data=val_generator,\n",
        "    validation_steps=val_generator.samples // batch_size,\n",
        "    callbacks=[checkpoint, early_stopping, reduce_lr]\n",
        ")"
      ],
      "metadata": {
        "colab": {
          "base_uri": "https://localhost:8080/"
        },
        "id": "vHMWYnn-ybwm",
        "outputId": "ef28524d-7d15-4bf5-fdbd-113246108d3b"
      },
      "execution_count": 61,
      "outputs": [
        {
          "output_type": "stream",
          "name": "stdout",
          "text": [
            "Epoch 1/5\n",
            "49/49 [==============================] - ETA: 0s - loss: 0.1609 - accuracy: 0.9392\n",
            "Epoch 1: val_accuracy improved from -inf to 0.97461, saving model to lung_disease_model.h5\n",
            "49/49 [==============================] - 227s 2s/step - loss: 0.1609 - accuracy: 0.9392 - val_loss: 0.0646 - val_accuracy: 0.9746 - lr: 1.0000e-04\n",
            "Epoch 2/5\n",
            "49/49 [==============================] - ETA: 0s - loss: 0.1052 - accuracy: 0.9542\n",
            "Epoch 2: val_accuracy improved from 0.97461 to 0.98340, saving model to lung_disease_model.h5\n",
            "49/49 [==============================] - 133s 3s/step - loss: 0.1052 - accuracy: 0.9542 - val_loss: 0.0399 - val_accuracy: 0.9834 - lr: 1.0000e-04\n",
            "Epoch 3/5\n",
            "49/49 [==============================] - ETA: 0s - loss: 0.0776 - accuracy: 0.9707\n",
            "Epoch 3: val_accuracy did not improve from 0.98340\n",
            "49/49 [==============================] - 111s 2s/step - loss: 0.0776 - accuracy: 0.9707 - val_loss: 0.2337 - val_accuracy: 0.9131 - lr: 1.0000e-04\n",
            "Epoch 4/5\n",
            "49/49 [==============================] - ETA: 0s - loss: 0.0642 - accuracy: 0.9782\n",
            "Epoch 4: val_accuracy did not improve from 0.98340\n",
            "49/49 [==============================] - 131s 3s/step - loss: 0.0642 - accuracy: 0.9782 - val_loss: 0.0432 - val_accuracy: 0.9829 - lr: 1.0000e-04\n",
            "Epoch 5/5\n",
            "49/49 [==============================] - ETA: 0s - loss: 0.0987 - accuracy: 0.9626\n",
            "Epoch 5: val_accuracy did not improve from 0.98340\n",
            "\n",
            "Epoch 5: ReduceLROnPlateau reducing learning rate to 9.999999747378752e-06.\n",
            "49/49 [==============================] - 111s 2s/step - loss: 0.0987 - accuracy: 0.9626 - val_loss: 0.4623 - val_accuracy: 0.8838 - lr: 1.0000e-04\n"
          ]
        }
      ]
    },
    {
      "cell_type": "markdown",
      "metadata": {
        "id": "LSARg5ca4GmR"
      },
      "source": [
        "<a name='model-evaluation'></a>\n",
        "## **MODEL EVALUATION**"
      ]
    },
    {
      "cell_type": "code",
      "source": [
        "# Plotting the learning curves\n",
        "plt.figure(figsize=(10, 5))\n",
        "\n",
        "# The training & validation accuracy values\n",
        "plt.subplot(1, 2, 1)\n",
        "plt.plot(history.history['accuracy'], label='training accuracy', color='blue', marker='o')\n",
        "plt.plot(history.history['val_accuracy'], label='talidation accuracy', color='orange', marker='o')\n",
        "plt.title('Model Accuracy Over Epochs')\n",
        "plt.xlabel('Epoch')\n",
        "plt.ylabel('Accuracy')\n",
        "plt.legend(loc='upper left')\n",
        "plt.gca().set_yticklabels(['{:.0f}%'.format(x*100) for x in plt.gca().get_yticks()])\n",
        "plt.grid(True)\n",
        "\n",
        "# The training & validation loss values\n",
        "plt.subplot(1, 2, 2)\n",
        "plt.plot(history.history['loss'], label='training Loss', color='blue', marker='o')\n",
        "plt.plot(history.history['val_loss'], label='talidation Loss', color='orange', marker='o')\n",
        "plt.title('Model Loss Over Epochs')\n",
        "plt.xlabel('Epoch')\n",
        "plt.ylabel('Loss')\n",
        "plt.legend(loc='upper left')\n",
        "plt.grid(True)\n",
        "\n",
        "plt.tight_layout()\n",
        "plt.show()"
      ],
      "metadata": {
        "colab": {
          "base_uri": "https://localhost:8080/",
          "height": 507
        },
        "id": "3nH3i9EpvTCM",
        "outputId": "6739311a-fd3b-41e8-c7c2-9d36d1dcfb07"
      },
      "execution_count": 62,
      "outputs": [
        {
          "output_type": "display_data",
          "data": {
            "text/plain": [
              "<Figure size 1000x500 with 2 Axes>"
            ],
            "image/png": "[encoded data removed]"
          },
          "metadata": {}
        }
      ]
    },
    {
      "cell_type": "markdown",
      "source": [
        "### ACCURACY ON TEST SET"
      ],
      "metadata": {
        "id": "WDFH_M5hBc4A"
      }
    },
    {
      "cell_type": "code",
      "source": [
        "test_loss, test_accuracy = model.evaluate(test_generator, steps=test_generator.samples // batch_size, verbose=0)\n",
        "print(f'Accuracy on test set: {test_accuracy * 100:.2f}%')"
      ],
      "metadata": {
        "colab": {
          "base_uri": "https://localhost:8080/"
        },
        "id": "P8rJHLeH37mB",
        "outputId": "fff03092-2e82-4ebe-b96b-f817c285fe21"
      },
      "execution_count": 64,
      "outputs": [
        {
          "output_type": "stream",
          "name": "stdout",
          "text": [
            "Accuracy on test set: 90.45%\n"
          ]
        }
      ]
    },
    {
      "cell_type": "markdown",
      "source": [
        "<a name='conclusion'></a>\n",
        "## **CONCLUSION**"
      ],
      "metadata": {
        "id": "ChsgE91k7gxF"
      }
    },
    {
      "cell_type": "markdown",
      "source": [
        "The model has demonstrated performance in line with expectations, achieving training and testing accuracies as compared to other model architectures. As part of our ongoing efforts, we are saving the model weights for future applications."
      ],
      "metadata": {
        "id": "BuY4O2fNFB2H"
      }
    },
    {
      "cell_type": "code",
      "source": [
        "model.save(os.path.dirname('/content/drive/MyDrive/Colab Notebooks/models/FINAL_YEAR_PROJECT_2023/lung_disease_model.keras'))"
      ],
      "metadata": {
        "id": "8-nJmFX7FBRg"
      },
      "execution_count": 65,
      "outputs": []
    }
  ],
  "metadata": {
    "language_info": {
      "name": "python"
    },
    "colab": {
      "provenance": [],
      "gpuType": "T4",
      "include_colab_link": true
    },
    "kernelspec": {
      "name": "python3",
      "display_name": "Python 3"
    },
    "accelerator": "GPU"
  },
  "nbformat": 4,
  "nbformat_minor": 0
}