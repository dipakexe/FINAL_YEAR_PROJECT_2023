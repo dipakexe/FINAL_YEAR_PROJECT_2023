{
 "cells": [
  {
   "cell_type": "markdown",
   "metadata": {},
   "source": [
    "# **Lungs Disease Detection**"
   ]
  },
  {
   "cell_type": "markdown",
   "metadata": {},
   "source": [
    "**INDEX**\n",
    "\n",
    "- [DATA COLLECTION](#data-collection)\n",
    "- [DATA CLEANING](#data-cleaning)\n",
    "- [DATA PRE-PROCESSING](#data-pre-processing)\n",
    "- [MODEL BUILDING](#model-building)\n",
    "- [MODEL EVALUATION](#model-evaluation)"
   ]
  },
  {
   "cell_type": "markdown",
   "metadata": {},
   "source": [
    "<a name=\"data-collection\"></a>\n",
    "## **DATA COLLECTION**"
   ]
  },
  {
   "cell_type": "markdown",
   "metadata": {},
   "source": [
    "<a name=\"data-cleaning\"></a>\n",
    "## **DATA CLEANING**"
   ]
  },
  {
   "cell_type": "markdown",
   "metadata": {},
   "source": [
    "<a name=\"data-pre-processing\"></a>\n",
    "## **DATA PRE-PROCESSING**"
   ]
  },
  {
   "cell_type": "markdown",
   "metadata": {},
   "source": [
    "<a name='model-building'></a>\n",
    "## **MODEL BUILDING**"
   ]
  },
  {
   "cell_type": "markdown",
   "metadata": {},
   "source": [
    "<a name='model-evaluation'></a>\n",
    "## **MODEL EVALUATION**"
   ]
  }
 ],
 "metadata": {
  "language_info": {
   "name": "python"
  }
 },
 "nbformat": 4,
 "nbformat_minor": 2
}
